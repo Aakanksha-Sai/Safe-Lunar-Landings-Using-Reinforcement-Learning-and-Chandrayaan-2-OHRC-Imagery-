{
  "cells": [
    {
      "cell_type": "markdown",
      "id": "32e6d8df-409e-4e12-8c9b-b3283a2ec49c",
      "metadata": {
        "id": "32e6d8df-409e-4e12-8c9b-b3283a2ec49c"
      },
      "source": [
        "# Lunar Landing via Images"
      ]
    },
    {
      "cell_type": "markdown",
      "source": [
        "## Import Google Drive"
      ],
      "metadata": {
        "id": "qdK_VtNpOD-q"
      },
      "id": "qdK_VtNpOD-q"
    },
    {
      "cell_type": "code",
      "source": [
        "from google.colab import drive\n",
        "drive.mount('/content/drive')"
      ],
      "metadata": {
        "colab": {
          "base_uri": "https://localhost:8080/"
        },
        "id": "KPxyOxx-NUh2",
        "outputId": "46edefa5-30c3-49bc-aefd-2bb2900d02bb"
      },
      "id": "KPxyOxx-NUh2",
      "execution_count": 1,
      "outputs": [
        {
          "output_type": "stream",
          "name": "stdout",
          "text": [
            "Mounted at /content/drive\n"
          ]
        }
      ]
    },
    {
      "cell_type": "markdown",
      "id": "c94983e3-6afe-49ff-a075-794b01fac875",
      "metadata": {
        "id": "c94983e3-6afe-49ff-a075-794b01fac875"
      },
      "source": [
        "## Installing Necessary Libraries"
      ]
    },
    {
      "cell_type": "code",
      "execution_count": 2,
      "id": "3aec3b1b-e3ea-412b-a359-29b4a43b3b67",
      "metadata": {
        "colab": {
          "base_uri": "https://localhost:8080/"
        },
        "id": "3aec3b1b-e3ea-412b-a359-29b4a43b3b67",
        "outputId": "d4f0e9f8-325c-4383-f9be-49853b787ce6"
      },
      "outputs": [
        {
          "output_type": "stream",
          "name": "stdout",
          "text": [
            "Requirement already satisfied: gymnasium in /usr/local/lib/python3.11/dist-packages (1.1.0)\n",
            "Requirement already satisfied: numpy>=1.21.0 in /usr/local/lib/python3.11/dist-packages (from gymnasium) (1.26.4)\n",
            "Requirement already satisfied: cloudpickle>=1.2.0 in /usr/local/lib/python3.11/dist-packages (from gymnasium) (3.1.1)\n",
            "Requirement already satisfied: typing-extensions>=4.3.0 in /usr/local/lib/python3.11/dist-packages (from gymnasium) (4.12.2)\n",
            "Requirement already satisfied: farama-notifications>=0.0.1 in /usr/local/lib/python3.11/dist-packages (from gymnasium) (0.0.4)\n",
            "Collecting stable-baselines3[extra]\n",
            "  Downloading stable_baselines3-2.5.0-py3-none-any.whl.metadata (4.8 kB)\n",
            "Collecting gymnasium<1.1.0,>=0.29.1 (from stable-baselines3[extra])\n",
            "  Downloading gymnasium-1.0.0-py3-none-any.whl.metadata (9.5 kB)\n",
            "Requirement already satisfied: numpy<3.0,>=1.20 in /usr/local/lib/python3.11/dist-packages (from stable-baselines3[extra]) (1.26.4)\n",
            "Requirement already satisfied: torch<3.0,>=2.3 in /usr/local/lib/python3.11/dist-packages (from stable-baselines3[extra]) (2.5.1+cpu)\n",
            "Requirement already satisfied: cloudpickle in /usr/local/lib/python3.11/dist-packages (from stable-baselines3[extra]) (3.1.1)\n",
            "Requirement already satisfied: pandas in /usr/local/lib/python3.11/dist-packages (from stable-baselines3[extra]) (2.2.2)\n",
            "Requirement already satisfied: matplotlib in /usr/local/lib/python3.11/dist-packages (from stable-baselines3[extra]) (3.10.0)\n",
            "Requirement already satisfied: opencv-python in /usr/local/lib/python3.11/dist-packages (from stable-baselines3[extra]) (4.11.0.86)\n",
            "Requirement already satisfied: pygame in /usr/local/lib/python3.11/dist-packages (from stable-baselines3[extra]) (2.6.1)\n",
            "Requirement already satisfied: tensorboard>=2.9.1 in /usr/local/lib/python3.11/dist-packages (from stable-baselines3[extra]) (2.18.0)\n",
            "Requirement already satisfied: psutil in /usr/local/lib/python3.11/dist-packages (from stable-baselines3[extra]) (5.9.5)\n",
            "Requirement already satisfied: tqdm in /usr/local/lib/python3.11/dist-packages (from stable-baselines3[extra]) (4.67.1)\n",
            "Requirement already satisfied: rich in /usr/local/lib/python3.11/dist-packages (from stable-baselines3[extra]) (13.9.4)\n",
            "Requirement already satisfied: ale-py>=0.9.0 in /usr/local/lib/python3.11/dist-packages (from stable-baselines3[extra]) (0.10.2)\n",
            "Requirement already satisfied: pillow in /usr/local/lib/python3.11/dist-packages (from stable-baselines3[extra]) (11.1.0)\n",
            "Requirement already satisfied: typing-extensions>=4.3.0 in /usr/local/lib/python3.11/dist-packages (from gymnasium<1.1.0,>=0.29.1->stable-baselines3[extra]) (4.12.2)\n",
            "Requirement already satisfied: farama-notifications>=0.0.1 in /usr/local/lib/python3.11/dist-packages (from gymnasium<1.1.0,>=0.29.1->stable-baselines3[extra]) (0.0.4)\n",
            "Requirement already satisfied: absl-py>=0.4 in /usr/local/lib/python3.11/dist-packages (from tensorboard>=2.9.1->stable-baselines3[extra]) (1.4.0)\n",
            "Requirement already satisfied: grpcio>=1.48.2 in /usr/local/lib/python3.11/dist-packages (from tensorboard>=2.9.1->stable-baselines3[extra]) (1.70.0)\n",
            "Requirement already satisfied: markdown>=2.6.8 in /usr/local/lib/python3.11/dist-packages (from tensorboard>=2.9.1->stable-baselines3[extra]) (3.7)\n",
            "Requirement already satisfied: packaging in /usr/local/lib/python3.11/dist-packages (from tensorboard>=2.9.1->stable-baselines3[extra]) (24.2)\n",
            "Requirement already satisfied: protobuf!=4.24.0,>=3.19.6 in /usr/local/lib/python3.11/dist-packages (from tensorboard>=2.9.1->stable-baselines3[extra]) (5.29.3)\n",
            "Requirement already satisfied: setuptools>=41.0.0 in /usr/local/lib/python3.11/dist-packages (from tensorboard>=2.9.1->stable-baselines3[extra]) (75.1.0)\n",
            "Requirement already satisfied: six>1.9 in /usr/local/lib/python3.11/dist-packages (from tensorboard>=2.9.1->stable-baselines3[extra]) (1.17.0)\n",
            "Requirement already satisfied: tensorboard-data-server<0.8.0,>=0.7.0 in /usr/local/lib/python3.11/dist-packages (from tensorboard>=2.9.1->stable-baselines3[extra]) (0.7.2)\n",
            "Requirement already satisfied: werkzeug>=1.0.1 in /usr/local/lib/python3.11/dist-packages (from tensorboard>=2.9.1->stable-baselines3[extra]) (3.1.3)\n",
            "Requirement already satisfied: filelock in /usr/local/lib/python3.11/dist-packages (from torch<3.0,>=2.3->stable-baselines3[extra]) (3.17.0)\n",
            "Requirement already satisfied: networkx in /usr/local/lib/python3.11/dist-packages (from torch<3.0,>=2.3->stable-baselines3[extra]) (3.4.2)\n",
            "Requirement already satisfied: jinja2 in /usr/local/lib/python3.11/dist-packages (from torch<3.0,>=2.3->stable-baselines3[extra]) (3.1.5)\n",
            "Requirement already satisfied: fsspec in /usr/local/lib/python3.11/dist-packages (from torch<3.0,>=2.3->stable-baselines3[extra]) (2025.2.0)\n",
            "Requirement already satisfied: sympy==1.13.1 in /usr/local/lib/python3.11/dist-packages (from torch<3.0,>=2.3->stable-baselines3[extra]) (1.13.1)\n",
            "Requirement already satisfied: mpmath<1.4,>=1.1.0 in /usr/local/lib/python3.11/dist-packages (from sympy==1.13.1->torch<3.0,>=2.3->stable-baselines3[extra]) (1.3.0)\n",
            "Requirement already satisfied: contourpy>=1.0.1 in /usr/local/lib/python3.11/dist-packages (from matplotlib->stable-baselines3[extra]) (1.3.1)\n",
            "Requirement already satisfied: cycler>=0.10 in /usr/local/lib/python3.11/dist-packages (from matplotlib->stable-baselines3[extra]) (0.12.1)\n",
            "Requirement already satisfied: fonttools>=4.22.0 in /usr/local/lib/python3.11/dist-packages (from matplotlib->stable-baselines3[extra]) (4.56.0)\n",
            "Requirement already satisfied: kiwisolver>=1.3.1 in /usr/local/lib/python3.11/dist-packages (from matplotlib->stable-baselines3[extra]) (1.4.8)\n",
            "Requirement already satisfied: pyparsing>=2.3.1 in /usr/local/lib/python3.11/dist-packages (from matplotlib->stable-baselines3[extra]) (3.2.1)\n",
            "Requirement already satisfied: python-dateutil>=2.7 in /usr/local/lib/python3.11/dist-packages (from matplotlib->stable-baselines3[extra]) (2.9.0.post0)\n",
            "Requirement already satisfied: pytz>=2020.1 in /usr/local/lib/python3.11/dist-packages (from pandas->stable-baselines3[extra]) (2025.1)\n",
            "Requirement already satisfied: tzdata>=2022.7 in /usr/local/lib/python3.11/dist-packages (from pandas->stable-baselines3[extra]) (2025.1)\n",
            "Requirement already satisfied: markdown-it-py>=2.2.0 in /usr/local/lib/python3.11/dist-packages (from rich->stable-baselines3[extra]) (3.0.0)\n",
            "Requirement already satisfied: pygments<3.0.0,>=2.13.0 in /usr/local/lib/python3.11/dist-packages (from rich->stable-baselines3[extra]) (2.19.1)\n",
            "Requirement already satisfied: mdurl~=0.1 in /usr/local/lib/python3.11/dist-packages (from markdown-it-py>=2.2.0->rich->stable-baselines3[extra]) (0.1.2)\n",
            "Requirement already satisfied: MarkupSafe>=2.1.1 in /usr/local/lib/python3.11/dist-packages (from werkzeug>=1.0.1->tensorboard>=2.9.1->stable-baselines3[extra]) (3.0.2)\n",
            "Downloading gymnasium-1.0.0-py3-none-any.whl (958 kB)\n",
            "\u001b[2K   \u001b[90m━━━━━━━━━━━━━━━━━━━━━━━━━━━━━━━━━━━━━━━━\u001b[0m \u001b[32m958.1/958.1 kB\u001b[0m \u001b[31m13.2 MB/s\u001b[0m eta \u001b[36m0:00:00\u001b[0m\n",
            "\u001b[?25hDownloading stable_baselines3-2.5.0-py3-none-any.whl (183 kB)\n",
            "\u001b[2K   \u001b[90m━━━━━━━━━━━━━━━━━━━━━━━━━━━━━━━━━━━━━━━━\u001b[0m \u001b[32m183.9/183.9 kB\u001b[0m \u001b[31m11.5 MB/s\u001b[0m eta \u001b[36m0:00:00\u001b[0m\n",
            "\u001b[?25hInstalling collected packages: gymnasium, stable-baselines3\n",
            "  Attempting uninstall: gymnasium\n",
            "    Found existing installation: gymnasium 1.1.0\n",
            "    Uninstalling gymnasium-1.1.0:\n",
            "      Successfully uninstalled gymnasium-1.1.0\n",
            "Successfully installed gymnasium-1.0.0 stable-baselines3-2.5.0\n"
          ]
        }
      ],
      "source": [
        "!pip install gymnasium\n",
        "!pip install stable-baselines3[extra]"
      ]
    },
    {
      "cell_type": "markdown",
      "id": "057a48c6-bd5f-4914-a625-689d1fd948b1",
      "metadata": {
        "id": "057a48c6-bd5f-4914-a625-689d1fd948b1"
      },
      "source": [
        "## Import Libraries"
      ]
    },
    {
      "cell_type": "code",
      "execution_count": 3,
      "id": "bd4794b4-aded-4c4c-83d7-1496fe8df627",
      "metadata": {
        "id": "bd4794b4-aded-4c4c-83d7-1496fe8df627"
      },
      "outputs": [],
      "source": [
        "import os\n",
        "import numpy as np\n",
        "import matplotlib.pyplot as plt\n",
        "from PIL import Image\n",
        "\n",
        "# Import Gymanasium\n",
        "import gymnasium\n",
        "from gymnasium import Env\n",
        "from gymnasium import spaces\n",
        "\n",
        "# Import Stable-Baselines3\n",
        "from stable_baselines3 import PPO\n",
        "from stable_baselines3.common.evaluation import evaluate_policy\n",
        "from stable_baselines3.common.env_util import make_vec_env"
      ]
    },
    {
      "cell_type": "markdown",
      "id": "73f9aa92-03d2-4668-89ed-53efb914976f",
      "metadata": {
        "id": "73f9aa92-03d2-4668-89ed-53efb914976f"
      },
      "source": [
        "## Sample Environment"
      ]
    },
    {
      "cell_type": "code",
      "execution_count": null,
      "id": "6165cf24-1034-41b3-a860-ff6e81398b0c",
      "metadata": {
        "id": "6165cf24-1034-41b3-a860-ff6e81398b0c"
      },
      "outputs": [],
      "source": [
        "image = Image.open(\"/content/drive/My Drive/Mask.jpg\").convert(\"L\")  # Convert to grayscale\n",
        "image_data = np.array(image)"
      ]
    },
    {
      "cell_type": "code",
      "execution_count": null,
      "id": "6d976298-797e-483d-8fdc-f32768addce1",
      "metadata": {
        "colab": {
          "base_uri": "https://localhost:8080/",
          "height": 452
        },
        "id": "6d976298-797e-483d-8fdc-f32768addce1",
        "outputId": "5885c67a-34ff-42bc-e483-fc8ef4b81041"
      },
      "outputs": [
        {
          "output_type": "display_data",
          "data": {
            "text/plain": [
              "<Figure size 640x480 with 1 Axes>"
            ],
            "image/png": "[encoded data removed]"
          },
          "metadata": {}
        }
      ],
      "source": [
        "plt.imshow(image_data, cmap='gray')  # Use cmap='gray' for grayscale images\n",
        "plt.title(\"Lunar Environemnt\")  # Add a title (optional)\n",
        "plt.show() # to show the image"
      ]
    },
    {
      "cell_type": "markdown",
      "id": "00020dfe-47b6-40bd-9d91-d447c1a946b5",
      "metadata": {
        "id": "00020dfe-47b6-40bd-9d91-d447c1a946b5"
      },
      "source": [
        "## Custom Environment - Lunar Lander"
      ]
    },
    {
      "cell_type": "code",
      "execution_count": 4,
      "id": "c1b919c8-a7de-4e2e-8829-275e855aad15",
      "metadata": {
        "id": "c1b919c8-a7de-4e2e-8829-275e855aad15"
      },
      "outputs": [],
      "source": [
        "class LunarLandingEnv(Env):\n",
        "    metadata = {\"render_modes\": [\"human\"]}\n",
        "\n",
        "    def __init__(self, image_path):\n",
        "        super(LunarLandingEnv, self).__init__()\n",
        "\n",
        "        # Loads the image (grayscale) and converts it into a numpy array\n",
        "        self.image_path = image_path\n",
        "        self.image = Image.open(self.image_path).convert(\"L\")\n",
        "        self.image_data = np.array(self.image) # This array represents the terrain where safe zones (255) and hazard zones (0) are defined\n",
        "\n",
        "        self.safe_zone_value = 255 # Defines safe zone\n",
        "        self.hazard_value = 0 # Define hazard zone\n",
        "        # Convert to list of tuples for faster lookup during step\n",
        "        self.hazards = [(point[1], point[0]) for point in np.argwhere(self.image_data == self.hazard_value)]\n",
        "\n",
        "        # Define rewards and penalties with more balanced values\n",
        "        self.hazard_penalty = -10.0  # Penalty for landing on hazard\n",
        "        self.proximity_penalty = -0.5  # Penalty for being near hazards\n",
        "        self.step_penalty = -0.1  # Small penalty for each step to encourage efficiency\n",
        "        self.landing_reward = 20.0  # Reward for successful landing\n",
        "\n",
        "        self.action_space = spaces.Discrete(4)  # Action space: Up, Down, Left, Right\n",
        "\n",
        "        # Observation space: A 5x5 patch of the terrain\n",
        "        self.patch_size = 5\n",
        "        self.observation_space = spaces.Box(low=0, high=255, shape=(self.patch_size, self.patch_size), dtype=np.uint8)\n",
        "\n",
        "        # Defines the maximum x and y coordinates based on image size\n",
        "        self.max_x = self.image_data.shape[1] - 1\n",
        "        self.max_y = self.image_data.shape[0] - 1\n",
        "\n",
        "        # Calculate maximum possible distance for normalization\n",
        "        self.max_distance = np.sqrt(self.max_x**2 + self.max_y**2)\n",
        "\n",
        "        # Find start position at the bottom center\n",
        "        self.start_position = self._find_start_position()\n",
        "        self.current_position = self.start_position\n",
        "\n",
        "        # Find ideal landing spots (safe areas with safe neighbors)\n",
        "        self.landing_spots = self._find_landing_spots()\n",
        "        if not self.landing_spots:\n",
        "            # Fallback to any safe position\n",
        "            safe_positions = [(y, x) for x, y in np.argwhere(self.image_data == self.safe_zone_value)]\n",
        "            if safe_positions:\n",
        "                self.landing_spots = [safe_positions[0]]\n",
        "            else:\n",
        "                raise ValueError(\"No safe areas found in the image!\")\n",
        "\n",
        "        # Track number of steps for episode termination\n",
        "        self.steps = 0\n",
        "        self.max_steps = 200  # Prevent episodes from running too long\n",
        "\n",
        "    def _find_start_position(self):\n",
        "        \"\"\"Find a starting position at the bottom of the image.\"\"\"\n",
        "        height, width = self.image_data.shape\n",
        "        bottom_row = height - 1\n",
        "        center_col = width // 2\n",
        "\n",
        "        # Try bottom center first\n",
        "        if self.image_data[bottom_row, center_col] == self.safe_zone_value:\n",
        "            return (center_col, bottom_row)\n",
        "\n",
        "        # Try to find a safe spot in the bottom row\n",
        "        safe_pixels = np.argwhere(self.image_data[bottom_row, :] == self.safe_zone_value)\n",
        "        if len(safe_pixels) > 0:\n",
        "            closest_safe_pixel = min(safe_pixels, key=lambda p: abs(p[0] - center_col))\n",
        "            return (closest_safe_pixel[0], bottom_row)\n",
        "\n",
        "        # If no safe spots in bottom row, find closest safe spot to bottom center\n",
        "        safe_positions = np.argwhere(self.image_data == self.safe_zone_value)\n",
        "        if len(safe_positions) > 0:\n",
        "            # Sort by y-coordinate (descending) and then by distance to center x\n",
        "            safe_positions = sorted(safe_positions, key=lambda p: (-p[0], abs(p[1] - center_col)))\n",
        "            return (safe_positions[0][1], safe_positions[0][0])  # x, y format\n",
        "\n",
        "        raise ValueError(\"No safe areas found in the image!\")\n",
        "\n",
        "    def _find_landing_spots(self):\n",
        "        \"\"\"\n",
        "        Find landing spots, defined as safe areas where all\n",
        "        four adjacent neighbors (up, down, left, right) are also safe.\n",
        "        \"\"\"\n",
        "        landing_spots = []\n",
        "        height, width = self.image_data.shape\n",
        "\n",
        "        # Define the four adjacent directions\n",
        "        adjacent_dirs = [(0, 1), (1, 0), (0, -1), (-1, 0)]  # right, down, left, up\n",
        "\n",
        "        # Iterate through all safe pixels\n",
        "        for y in range(1, height-1):\n",
        "            for x in range(1, width-1):\n",
        "                if self.image_data[y, x] == self.safe_zone_value:\n",
        "                    # Check all 4 adjacent neighbors\n",
        "                    is_safe = True\n",
        "                    for dx, dy in adjacent_dirs:\n",
        "                        if self.image_data[y+dy, x+dx] != self.safe_zone_value:\n",
        "                            is_safe = False\n",
        "                            break\n",
        "\n",
        "                    if is_safe:\n",
        "                        landing_spots.append((x, y))\n",
        "\n",
        "        return landing_spots\n",
        "\n",
        "    def step(self, action):\n",
        "        self.steps += 1\n",
        "\n",
        "        # Variable step size based on height (simulating gravity)\n",
        "        step_size = max(1, int(5 * (self.current_position[1] / self.max_y)))\n",
        "        x, y = self.current_position\n",
        "\n",
        "        # Apply action\n",
        "        if action == 0:  # Up\n",
        "            new_pos = (x, max(0, y - step_size))\n",
        "        elif action == 1:  # Down\n",
        "            new_pos = (x, min(self.max_y, y + step_size))\n",
        "        elif action == 2:  # Left\n",
        "            new_pos = (max(0, x - step_size), y)\n",
        "        elif action == 3:  # Right\n",
        "            new_pos = (min(self.max_x, x + step_size), y)\n",
        "        else:\n",
        "            new_pos = (x, y)\n",
        "\n",
        "        # Check if new position is in hazard\n",
        "        if new_pos not in self.hazards:\n",
        "            self.current_position = new_pos\n",
        "        else:\n",
        "            # If would land on hazard, don't move\n",
        "            self.current_position = (x, y)\n",
        "\n",
        "        # Calculate reward, check if done\n",
        "        reward = self._calculate_reward()\n",
        "        done = self._is_done()\n",
        "        truncated = self.steps >= self.max_steps\n",
        "\n",
        "        # Get observation\n",
        "        obs = self._get_observation()\n",
        "\n",
        "        info = {\n",
        "            'position': self.current_position,\n",
        "            'steps': self.steps,\n",
        "            'is_landing_spot': self.current_position in self.landing_spots\n",
        "        }\n",
        "\n",
        "        return obs, reward, done, truncated, info\n",
        "\n",
        "    def _calculate_reward(self):\n",
        "        x, y = self.current_position\n",
        "\n",
        "        # Check if landed on hazard\n",
        "        if self.image_data[y, x] == self.hazard_value:\n",
        "            return self.hazard_penalty\n",
        "\n",
        "        # Calculate distance to nearest landing spot\n",
        "        if self.landing_spots:\n",
        "            min_distance = min(\n",
        "                np.sqrt((x - spot_x)**2 + (y - spot_y)**2)\n",
        "                for spot_x, spot_y in self.landing_spots\n",
        "            )\n",
        "            # Normalize distance reward between 0 and 1, then scale\n",
        "            distance_reward = 2.0 * (1 - (min_distance / self.max_distance))\n",
        "        else:\n",
        "            distance_reward = 0\n",
        "\n",
        "        # Extra reward for landing on a landing spot\n",
        "        landing_reward = 0\n",
        "        if self.current_position in self.landing_spots:\n",
        "            landing_reward = self.landing_reward\n",
        "\n",
        "        # Calculate hazard proximity penalty\n",
        "        hazard_penalty = 0\n",
        "        search_radius = 2\n",
        "        for i in range(max(0, y - search_radius), min(self.max_y + 1, y + search_radius + 1)):\n",
        "            for j in range(max(0, x - search_radius), min(self.max_x + 1, x + search_radius + 1)):\n",
        "                if self.image_data[i, j] == self.hazard_value:\n",
        "                    # Closer hazards penalize more\n",
        "                    dist = max(1, np.sqrt((i-y)**2 + (j-x)**2))\n",
        "                    hazard_penalty += self.proximity_penalty / dist\n",
        "\n",
        "        # Step penalty to encourage efficiency\n",
        "        step_penalty = self.step_penalty\n",
        "\n",
        "        total_reward = distance_reward + hazard_penalty + step_penalty + landing_reward\n",
        "        return total_reward\n",
        "\n",
        "    def _is_done(self):\n",
        "        x, y = self.current_position\n",
        "\n",
        "        # Done if hit hazard\n",
        "        if self.image_data[y, x] == self.hazard_value:\n",
        "            return True\n",
        "\n",
        "        # Done if landed on a landing spot\n",
        "        if self.current_position in self.landing_spots:\n",
        "            return True\n",
        "\n",
        "        return False\n",
        "\n",
        "    def _get_observation(self):\n",
        "        x, y = self.current_position\n",
        "        half_patch = self.patch_size // 2\n",
        "\n",
        "        # Calculate bounds for the observation patch\n",
        "        min_y, max_y = max(0, y - half_patch), min(self.max_y + 1, y + half_patch + 1)\n",
        "        min_x, max_x = max(0, x - half_patch), min(self.max_x + 1, x + half_patch + 1)\n",
        "\n",
        "        # Extract the patch\n",
        "        patch = self.image_data[min_y:max_y, min_x:max_x]\n",
        "\n",
        "        # Create a properly padded patch\n",
        "        padded_patch = np.full((self.patch_size, self.patch_size), fill_value=self.safe_zone_value, dtype=np.uint8)\n",
        "        h, w = patch.shape\n",
        "\n",
        "        # Calculate where to place the patch in the padded version\n",
        "        start_y, start_x = 0, 0\n",
        "\n",
        "        # Center the patch in the padded version\n",
        "        padded_patch[start_y:start_y+h, start_x:start_x+w] = patch\n",
        "\n",
        "        return padded_patch\n",
        "\n",
        "    def reset(self, seed=None, options=None):\n",
        "        super().reset(seed=seed)\n",
        "        if seed is not None:\n",
        "            np.random.seed(seed)\n",
        "\n",
        "        self.steps = 0\n",
        "        self.current_position = self.start_position\n",
        "        return self._get_observation(), {}\n",
        "\n",
        "    def render(self, mode=\"human\"):\n",
        "        # Create RGB image for visualization\n",
        "        img = np.stack([self.image_data] * 3, axis=-1)\n",
        "\n",
        "        # Mark all landing spots in light blue\n",
        "        #for spot_x, spot_y in self.landing_spots:\n",
        "        #   img[spot_y, spot_x] = [173, 216, 230]  # Light blue\n",
        "\n",
        "        # Mark current position in red\n",
        "        x, y = self.current_position\n",
        "        radius = 2\n",
        "        for i in range(max(0, y-radius), min(self.max_y+1, y+radius+1)):\n",
        "            for j in range(max(0, x-radius), min(self.max_x+1, x+radius+1)):\n",
        "                if (i-y)**2 + (j-x)**2 <= radius**2:\n",
        "                    img[i, j] = [255, 0, 0]  # Red for agent\n",
        "\n",
        "        plt.figure(figsize=(10, 10))\n",
        "        plt.imshow(img)\n",
        "        plt.title(f\"Lunar Landing - Step: {self.steps}, Position: {self.current_position}\")\n",
        "        plt.scatter(x, y, color=\"red\", marker=\"o\", s=100, label=\"Agent\")\n",
        "        plt.legend()\n",
        "        plt.show()"
      ]
    },
    {
      "cell_type": "markdown",
      "id": "1673930c-2773-4bd4-bc4b-2447f1101b13",
      "metadata": {
        "id": "1673930c-2773-4bd4-bc4b-2447f1101b13"
      },
      "source": [
        "## Load Custom Environment"
      ]
    },
    {
      "cell_type": "code",
      "execution_count": 5,
      "id": "2d7f84d4-3ed5-4940-80d6-8652d0229814",
      "metadata": {
        "id": "2d7f84d4-3ed5-4940-80d6-8652d0229814"
      },
      "outputs": [],
      "source": [
        "image_path = \"/content/drive/My Drive/Mask.jpg\"\n",
        "env = LunarLandingEnv(image_path)"
      ]
    },
    {
      "cell_type": "markdown",
      "id": "1712f718-99b0-4bf7-affd-3ad25995be12",
      "metadata": {
        "id": "1712f718-99b0-4bf7-affd-3ad25995be12"
      },
      "source": [
        "## Testing Custom Environment"
      ]
    },
    {
      "cell_type": "code",
      "execution_count": null,
      "id": "b8a5093e-84db-4fff-a8c5-3b1101b89489",
      "metadata": {
        "colab": {
          "base_uri": "https://localhost:8080/",
          "height": 1000
        },
        "id": "b8a5093e-84db-4fff-a8c5-3b1101b89489",
        "outputId": "ab1ff1e1-642e-498f-a79a-dea1f8d839f6"
      },
      "outputs": [
        {
          "output_type": "display_data",
          "data": {
            "text/plain": [
              "<Figure size 1000x1000 with 1 Axes>"
            ],
            "image/png": "[encoded data removed]"
          },
          "metadata": {}
        },
        {
          "output_type": "stream",
          "name": "stdout",
          "text": [
            "\n",
            "\n",
            "Initial Observation:\n",
            "[[255 255 255 255 255]\n",
            " [255 255 255 255 255]\n",
            " [255 255 255 255 255]\n",
            " [255 255 255 255 255]\n",
            " [255 255 255 255 255]]\n",
            "\n",
            "\n"
          ]
        }
      ],
      "source": [
        "# Reset environment\n",
        "observation, _ = env.reset()\n",
        "env.render()\n",
        "print(\"\\n\")\n",
        "print(\"Initial Observation:\")\n",
        "print(observation)\n",
        "print(\"\\n\")"
      ]
    },
    {
      "cell_type": "code",
      "source": [
        "# Take a few random steps and render\n",
        "for i in range(10):\n",
        "    action = env.action_space.sample()  # Random action (0: Up, 1: Down, 2: Left, 3: Right)\n",
        "    obs, reward, done, _, _ = env.step(action)  # SB3 requires 5 outputs\n",
        "\n",
        "    print(f\"Step {i+1}:\")\n",
        "    print(\"Action Taken:\", action)\n",
        "    print(\"New Position:\", env.current_position)\n",
        "    print(\"Reward:\", reward)\n",
        "    print(\"Done:\", done)\n",
        "    print(\"Observation:\")\n",
        "    print(\"\\n\")\n",
        "    print(obs)\n",
        "    print(\"\\n\")\n",
        "\n",
        "    if done:\n",
        "        print(\"Episode ended.\")\n",
        "        break\n",
        "\n",
        "# Visualize\n",
        "env.render()"
      ],
      "metadata": {
        "colab": {
          "base_uri": "https://localhost:8080/",
          "height": 1000
        },
        "id": "0vZsHzoGPeur",
        "outputId": "52a4f168-fdd2-445e-85a3-fba8345c641b"
      },
      "id": "0vZsHzoGPeur",
      "execution_count": null,
      "outputs": [
        {
          "output_type": "stream",
          "name": "stdout",
          "text": [
            "Step 1:\n",
            "Action Taken: 1\n",
            "New Position: (600, 1199)\n",
            "Reward: 1.8988205057861776\n",
            "Done: False\n",
            "Observation:\n",
            "\n",
            "\n",
            "[[255 255 255 255 255]\n",
            " [255 255 255 255 255]\n",
            " [255 255 255 255 255]\n",
            " [255 255 255 255 255]\n",
            " [255 255 255 255 255]]\n",
            "\n",
            "\n",
            "Step 2:\n",
            "Action Taken: 1\n",
            "New Position: (600, 1199)\n",
            "Reward: 1.8988205057861776\n",
            "Done: False\n",
            "Observation:\n",
            "\n",
            "\n",
            "[[255 255 255 255 255]\n",
            " [255 255 255 255 255]\n",
            " [255 255 255 255 255]\n",
            " [255 255 255 255 255]\n",
            " [255 255 255 255 255]]\n",
            "\n",
            "\n",
            "Step 3:\n",
            "Action Taken: 1\n",
            "New Position: (600, 1199)\n",
            "Reward: 1.8988205057861776\n",
            "Done: False\n",
            "Observation:\n",
            "\n",
            "\n",
            "[[255 255 255 255 255]\n",
            " [255 255 255 255 255]\n",
            " [255 255 255 255 255]\n",
            " [255 255 255 255 255]\n",
            " [255 255 255 255 255]]\n",
            "\n",
            "\n",
            "Step 4:\n",
            "Action Taken: 1\n",
            "New Position: (600, 1199)\n",
            "Reward: 1.8988205057861776\n",
            "Done: False\n",
            "Observation:\n",
            "\n",
            "\n",
            "[[255 255 255 255 255]\n",
            " [255 255 255 255 255]\n",
            " [255 255 255 255 255]\n",
            " [255 255 255 255 255]\n",
            " [255 255 255 255 255]]\n",
            "\n",
            "\n",
            "Step 5:\n",
            "Action Taken: 1\n",
            "New Position: (600, 1199)\n",
            "Reward: 1.8988205057861776\n",
            "Done: False\n",
            "Observation:\n",
            "\n",
            "\n",
            "[[255 255 255 255 255]\n",
            " [255 255 255 255 255]\n",
            " [255 255 255 255 255]\n",
            " [255 255 255 255 255]\n",
            " [255 255 255 255 255]]\n",
            "\n",
            "\n",
            "Step 6:\n",
            "Action Taken: 1\n",
            "New Position: (600, 1199)\n",
            "Reward: 1.8988205057861776\n",
            "Done: False\n",
            "Observation:\n",
            "\n",
            "\n",
            "[[255 255 255 255 255]\n",
            " [255 255 255 255 255]\n",
            " [255 255 255 255 255]\n",
            " [255 255 255 255 255]\n",
            " [255 255 255 255 255]]\n",
            "\n",
            "\n",
            "Step 7:\n",
            "Action Taken: 1\n",
            "New Position: (600, 1199)\n",
            "Reward: 1.8988205057861776\n",
            "Done: False\n",
            "Observation:\n",
            "\n",
            "\n",
            "[[255 255 255 255 255]\n",
            " [255 255 255 255 255]\n",
            " [255 255 255 255 255]\n",
            " [255 255 255 255 255]\n",
            " [255 255 255 255 255]]\n",
            "\n",
            "\n",
            "Step 8:\n",
            "Action Taken: 0\n",
            "New Position: (600, 1194)\n",
            "Reward: 21.9\n",
            "Done: True\n",
            "Observation:\n",
            "\n",
            "\n",
            "[[255 255 255 255 255]\n",
            " [255 255 255 255 255]\n",
            " [255 255 255 255 255]\n",
            " [255 255 255 255 255]\n",
            " [255 255 255 255 255]]\n",
            "\n",
            "\n",
            "Episode ended.\n"
          ]
        },
        {
          "output_type": "display_data",
          "data": {
            "text/plain": [
              "<Figure size 1000x1000 with 1 Axes>"
            ],
            "image/png": "[encoded data removed]"
          },
          "metadata": {}
        }
      ]
    },
    {
      "cell_type": "markdown",
      "id": "41f54846-c2e1-4a76-80f9-00b023c1e8a9",
      "metadata": {
        "id": "41f54846-c2e1-4a76-80f9-00b023c1e8a9"
      },
      "source": [
        "## Training RL Model"
      ]
    },
    {
      "cell_type": "code",
      "source": [
        "# Create Custom Environment\n",
        "env = LunarLandingEnv(image_path)\n",
        "\n",
        "# Wrap it for Stable-Baselines3\n",
        "vec_env = make_vec_env(lambda: env, n_envs=1)\n",
        "\n",
        "# Initialize PPO model\n",
        "model = PPO(\"MlpPolicy\", vec_env, verbose=1)"
      ],
      "metadata": {
        "colab": {
          "base_uri": "https://localhost:8080/"
        },
        "id": "CW3mGNh3k0Xd",
        "outputId": "81a99308-e1f9-4a1f-b476-b26413e30584"
      },
      "id": "CW3mGNh3k0Xd",
      "execution_count": 7,
      "outputs": [
        {
          "output_type": "stream",
          "name": "stdout",
          "text": [
            "Using cpu device\n"
          ]
        }
      ]
    },
    {
      "cell_type": "code",
      "execution_count": null,
      "id": "959457d3-5c48-44eb-80e6-49471706a8b2",
      "metadata": {
        "colab": {
          "base_uri": "https://localhost:8080/"
        },
        "id": "959457d3-5c48-44eb-80e6-49471706a8b2",
        "outputId": "a3d9b3d1-e9d9-4c17-8c16-a1c62e098aca"
      },
      "outputs": [
        {
          "metadata": {
            "tags": null
          },
          "name": "stdout",
          "output_type": "stream",
          "text": [
            "Using cpu device\n",
            "---------------------------------\n",
            "| rollout/           |          |\n",
            "|    ep_len_mean     | 4.14     |\n",
            "|    ep_rew_mean     | 27.9     |\n",
            "| time/              |          |\n",
            "|    fps             | 0        |\n",
            "|    iterations      | 1        |\n",
            "|    time_elapsed    | 2971     |\n",
            "|    total_timesteps | 2048     |\n",
            "---------------------------------\n"
          ]
        }
      ],
      "source": [
        "# Train the model\n",
        "model.learn(total_timesteps=50000)  # Adjust timesteps as needed"
      ]
    },
    {
      "cell_type": "code",
      "source": [
        "# Visualize\n",
        "env.render()"
      ],
      "metadata": {
        "id": "i2wVeRywPDxz"
      },
      "id": "i2wVeRywPDxz",
      "execution_count": null,
      "outputs": []
    },
    {
      "cell_type": "markdown",
      "id": "a9380624-aed4-4476-946d-70e155dff827",
      "metadata": {
        "id": "a9380624-aed4-4476-946d-70e155dff827"
      },
      "source": [
        "## Save RL Model"
      ]
    },
    {
      "cell_type": "code",
      "execution_count": null,
      "id": "a3422f18-9cdc-4b73-87b4-123b581f9103",
      "metadata": {
        "id": "a3422f18-9cdc-4b73-87b4-123b581f9103"
      },
      "outputs": [],
      "source": [
        "model.save(\"/content/drive/My Drive/ppo_lunar_landing\")"
      ]
    },
    {
      "cell_type": "markdown",
      "id": "db7cf6e4-2558-4f0b-9333-e8f5c68c76f1",
      "metadata": {
        "id": "db7cf6e4-2558-4f0b-9333-e8f5c68c76f1"
      },
      "source": [
        "## Evaluate RL Model"
      ]
    },
    {
      "cell_type": "code",
      "source": [
        "model = PPO.load(\"/content/drive/My Drive/ppo_lunar_landing\", env= vec_env)"
      ],
      "metadata": {
        "id": "9DQ2kcwMi2sb"
      },
      "id": "9DQ2kcwMi2sb",
      "execution_count": 9,
      "outputs": []
    },
    {
      "cell_type": "code",
      "execution_count": 10,
      "id": "17c17a10-c54f-4763-a550-9b4293208506",
      "metadata": {
        "id": "17c17a10-c54f-4763-a550-9b4293208506",
        "colab": {
          "base_uri": "https://localhost:8080/"
        },
        "outputId": "272f59c8-9059-424f-9bbe-433c7670f911"
      },
      "outputs": [
        {
          "output_type": "stream",
          "name": "stdout",
          "text": [
            "Mean Reward: 213.96658699999998, Std Reward: 2.842170943040401e-14\n"
          ]
        }
      ],
      "source": [
        "mean_reward, std_reward = evaluate_policy(model, vec_env, n_eval_episodes=10)\n",
        "print(f\"Mean Reward: {mean_reward}, Std Reward: {std_reward}\")"
      ]
    },
    {
      "cell_type": "markdown",
      "id": "f2ea6c09-a4e2-41b4-8741-598fbde12dd1",
      "metadata": {
        "id": "f2ea6c09-a4e2-41b4-8741-598fbde12dd1"
      },
      "source": [
        "## Load Trained RL Model"
      ]
    },
    {
      "cell_type": "code",
      "execution_count": null,
      "id": "244d68cd-e537-4098-9548-791c1d5f317b",
      "metadata": {
        "id": "244d68cd-e537-4098-9548-791c1d5f317b"
      },
      "outputs": [],
      "source": [
        "del model"
      ]
    },
    {
      "cell_type": "code",
      "execution_count": null,
      "id": "87933ab2-53cc-4448-9ea4-7cffaa7350ad",
      "metadata": {
        "id": "87933ab2-53cc-4448-9ea4-7cffaa7350ad"
      },
      "outputs": [],
      "source": [
        "model = PPO.load(\"/content/drive/My Drive/ppo_lunar_landing\", env= vec_env)"
      ]
    },
    {
      "cell_type": "markdown",
      "id": "2c816cac-b125-4ceb-9746-53d91d672667",
      "metadata": {
        "id": "2c816cac-b125-4ceb-9746-53d91d672667"
      },
      "source": [
        "## Test RL Model"
      ]
    },
    {
      "cell_type": "code",
      "execution_count": null,
      "id": "05df9916-f55f-45eb-b157-ee5564428484",
      "metadata": {
        "id": "05df9916-f55f-45eb-b157-ee5564428484"
      },
      "outputs": [],
      "source": [
        "obs, _ = env.reset()\n",
        "for _ in range(1000):  # Run for 1000 steps\n",
        "    action, _ = model.predict(obs)\n",
        "    obs, reward, done, _, _ = env.step(action)\n",
        "    if done:\n",
        "        obs, _ = env.reset()"
      ]
    },
    {
      "cell_type": "code",
      "source": [
        "# Visualize\n",
        "env.render()"
      ],
      "metadata": {
        "id": "SoRt0862O-Jq"
      },
      "id": "SoRt0862O-Jq",
      "execution_count": null,
      "outputs": []
    },
    {
      "cell_type": "markdown",
      "id": "bae90552-6c5b-4b4d-878f-129997a598c4",
      "metadata": {
        "id": "bae90552-6c5b-4b4d-878f-129997a598c4"
      },
      "source": [
        "## Close the Environment"
      ]
    },
    {
      "cell_type": "code",
      "execution_count": null,
      "id": "e30dd9c4-3d17-4dcd-9ae7-d95f7f1697d8",
      "metadata": {
        "id": "e30dd9c4-3d17-4dcd-9ae7-d95f7f1697d8"
      },
      "outputs": [],
      "source": [
        "env.close()"
      ]
    }
  ],
  "metadata": {
    "kernelspec": {
      "display_name": "Python [conda env:base] *",
      "language": "python",
      "name": "conda-base-py"
    },
    "language_info": {
      "codemirror_mode": {
        "name": "ipython",
        "version": 3
      },
      "file_extension": ".py",
      "mimetype": "text/x-python",
      "name": "python",
      "nbconvert_exporter": "python",
      "pygments_lexer": "ipython3",
      "version": "3.12.7"
    },
    "colab": {
      "provenance": [],
      "gpuType": "V28"
    },
    "accelerator": "TPU"
  },
  "nbformat": 4,
  "nbformat_minor": 5
}